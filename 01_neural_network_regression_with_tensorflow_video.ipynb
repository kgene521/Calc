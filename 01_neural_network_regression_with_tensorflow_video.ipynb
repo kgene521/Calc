{
  "nbformat": 4,
  "nbformat_minor": 0,
  "metadata": {
    "colab": {
      "name": "01_neural_network_regression_with_tensorflow_video.ipynb",
      "private_outputs": true,
      "provenance": [],
      "collapsed_sections": [],
      "authorship_tag": "ABX9TyO+OOpHIKoHTBYlXyoWJHdT",
      "include_colab_link": true
    },
    "kernelspec": {
      "name": "python3",
      "display_name": "Python 3"
    },
    "language_info": {
      "name": "python"
    }
  },
  "cells": [
    {
      "cell_type": "markdown",
      "metadata": {
        "id": "view-in-github",
        "colab_type": "text"
      },
      "source": [
        "<a href=\"https://colab.research.google.com/github/kgene521/Calc/blob/master/01_neural_network_regression_with_tensorflow_video.ipynb\" target=\"_parent\"><img src=\"https://colab.research.google.com/assets/colab-badge.svg\" alt=\"Open In Colab\"/></a>"
      ]
    },
    {
      "cell_type": "markdown",
      "source": [
        "#Neural Network Regression\n",
        "\n",
        "Housing prices dataset\n"
      ],
      "metadata": {
        "id": "i6H4EkKAzxoL"
      }
    },
    {
      "cell_type": "code",
      "execution_count": null,
      "metadata": {
        "id": "dnczhkcezwdP"
      },
      "outputs": [],
      "source": [
        "import tensorflow as tf\n",
        "from psutil import virtual_memory\n",
        "import numpy as np\n",
        "from matplotlib import pyplot as plt\n",
        "\n",
        "\n",
        "def print_env():\n",
        "  if ram_gb < 20:\n",
        "    print('Not using a high-RAM runtime')\n",
        "  else:\n",
        "    print('You are using a high-RAM runtime!')\n",
        "\n",
        "  gpu_info = !nvidia-smi\n",
        "  gpu_info = '\\n'.join(gpu_info)\n",
        "  if gpu_info.find('failed') >= 0:\n",
        "    print('Not connected to a GPU')\n",
        "  else:\n",
        "    print(gpu_info)\n",
        "\n",
        "def p(msg):\n",
        "  print(msg)\n",
        "\n",
        "def print_tensor_info(tensor, msg=\"\", conf=0):\n",
        "  nump_array = tensor.numpy()\n",
        "  print(\"=\"*50)\n",
        "  p(msg)\n",
        "  print(f\"{tensor}\")\n",
        "  if conf == 1:\n",
        "    print(f\"Number of dims (rank): {tensor.ndim}\")\n",
        "    print(f\"Shape of tensor: {tensor.shape}\")\n",
        "    print(f\"Datatype of every element: {tensor.dtype}\")\n",
        "    print(f\"Elements along the 0 axis: {tensor.shape[0]}\")\n",
        "    print(f\"Elements along the last axis: {tensor.shape[-1]}\")\n",
        "    print(f\"Total number of elements in tensor: {tf.size(tensor)}\", )\n",
        "    print(f\"Total number of elements in numpy array: {tf.size(tensor.numpy())}\", )\n"
      ]
    },
    {
      "cell_type": "markdown",
      "source": [
        "## Regression Model\n"
      ],
      "metadata": {
        "id": "UNLI5qB10ckD"
      }
    },
    {
      "cell_type": "code",
      "source": [
        "p(tf.__version__)"
      ],
      "metadata": {
        "id": "iL_w1Nkk0ySd"
      },
      "execution_count": null,
      "outputs": []
    },
    {
      "cell_type": "code",
      "source": [
        "# Create features\n",
        "X = np.array([-7., -4., -1., 2.0, 5.0, 8.0, 11.0, 14.0])\n",
        "\n",
        "# Create labels\n",
        "Y = np.array([3.0, 6.0, 9.0, 12.0, 15.0, 18.0, 21.0, 24.0])\n",
        "p(X), p(Y)\n",
        "plt.scatter(X, Y)\n",
        "y = X + 10\n",
        "p(y)\n",
        "y == X + 10"
      ],
      "metadata": {
        "id": "5QW0te6O3vEU"
      },
      "execution_count": null,
      "outputs": []
    },
    {
      "cell_type": "markdown",
      "source": [
        "#Input and Output Shapes"
      ],
      "metadata": {
        "id": "RzRxQBxc5kiv"
      }
    },
    {
      "cell_type": "code",
      "source": [
        "house_info = tf.constant([\"bedrooms\", \"bathroom\", \"garage\"])\n",
        "house_price = tf.constant([939700])\n",
        "house_info, house_price"
      ],
      "metadata": {
        "id": "RD9rzPLg5DWC"
      },
      "execution_count": null,
      "outputs": []
    },
    {
      "cell_type": "markdown",
      "source": [
        "## Steps in Modeling in TensorFlow\n",
        "\n",
        "1. **Creating a model** - define the input and output layers and the hidden layers of a deep learning model\n",
        "2. **Compiling a model** - define the loss function, the optimizer, and the evaluation metrics (what we can use to interpret the performance of our model)\n",
        "3. **Fitting the model** - letting the model try to find patterns between X and Y (features and labels)\n",
        "4. **Evaluating the model** - see how well the model predicts"
      ],
      "metadata": {
        "id": "1BLWjAXS7pQ9"
      }
    },
    {
      "cell_type": "code",
      "source": [
        "tf.random.set_seed(42)\n",
        "\n",
        "X = tf.constant([-7., -4., -1., 2.0, 5.0, 8.0, 11.0, 14.0], dtype=tf.float32)\n",
        "Y = tf.constant([3.0, 6.0, 9.0, 12.0, 15.0, 18.0, 21.0, 24.0], dtype=tf.float32)\n",
        "\n",
        "# 1. Create a model using the Sequential API\n",
        "model = tf.keras.Sequential([\n",
        "  tf.keras.layers.Dense(1)\n",
        "])\n",
        "\n",
        "# 2. Compile the model\n",
        "model.compile(loss=tf.keras.losses.mae,               ## mean absolute error\n",
        "              optimizer=tf.keras.optimizers.SGD(),\n",
        "              metrics=[\"mae\"])   ## stochastic gradient descent\n",
        "\n",
        "# 3. Fit the model\n",
        "model.fit(X, Y, epochs=5)\n",
        "\n",
        "# 4. Evaluate the model\n",
        "\n"
      ],
      "metadata": {
        "id": "rqoQrGqY7t0h"
      },
      "execution_count": null,
      "outputs": []
    }
  ]
}