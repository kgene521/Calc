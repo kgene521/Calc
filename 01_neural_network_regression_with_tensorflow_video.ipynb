{
  "nbformat": 4,
  "nbformat_minor": 0,
  "metadata": {
    "colab": {
      "name": "01_neural_network_regression_with_tensorflow_video.ipynb",
      "private_outputs": true,
      "provenance": [],
      "collapsed_sections": [],
      "authorship_tag": "ABX9TyPHwohpyxb23Jai/0VdFoeQ",
      "include_colab_link": true
    },
    "kernelspec": {
      "name": "python3",
      "display_name": "Python 3"
    },
    "language_info": {
      "name": "python"
    }
  },
  "cells": [
    {
      "cell_type": "markdown",
      "metadata": {
        "id": "view-in-github",
        "colab_type": "text"
      },
      "source": [
        "<a href=\"https://colab.research.google.com/github/kgene521/Calc/blob/master/01_neural_network_regression_with_tensorflow_video.ipynb\" target=\"_parent\"><img src=\"https://colab.research.google.com/assets/colab-badge.svg\" alt=\"Open In Colab\"/></a>"
      ]
    },
    {
      "cell_type": "markdown",
      "source": [
        "#Neural Network Regression\n",
        "\n",
        "Housing prices dataset\n"
      ],
      "metadata": {
        "id": "i6H4EkKAzxoL"
      }
    },
    {
      "cell_type": "code",
      "execution_count": null,
      "metadata": {
        "id": "dnczhkcezwdP"
      },
      "outputs": [],
      "source": [
        "import tensorflow as tf\n",
        "from psutil import virtual_memory\n",
        "import numpy as np\n",
        "\n",
        "\n",
        "def print_env():\n",
        "  if ram_gb < 20:\n",
        "    print('Not using a high-RAM runtime')\n",
        "  else:\n",
        "    print('You are using a high-RAM runtime!')\n",
        "\n",
        "  gpu_info = !nvidia-smi\n",
        "  gpu_info = '\\n'.join(gpu_info)\n",
        "  if gpu_info.find('failed') >= 0:\n",
        "    print('Not connected to a GPU')\n",
        "  else:\n",
        "    print(gpu_info)\n",
        "\n",
        "def p(msg):\n",
        "  print(msg)\n",
        "\n",
        "def print_tensor_info(tensor, msg=\"\", conf=0):\n",
        "  nump_array = tensor.numpy()\n",
        "  print(\"=\"*50)\n",
        "  p(msg)\n",
        "  print(f\"{tensor}\")\n",
        "  if conf == 1:\n",
        "    print(f\"Number of dims (rank): {tensor.ndim}\")\n",
        "    print(f\"Shape of tensor: {tensor.shape}\")\n",
        "    print(f\"Datatype of every element: {tensor.dtype}\")\n",
        "    print(f\"Elements along the 0 axis: {tensor.shape[0]}\")\n",
        "    print(f\"Elements along the last axis: {tensor.shape[-1]}\")\n",
        "    print(f\"Total number of elements in tensor: {tf.size(tensor)}\", )\n",
        "    print(f\"Total number of elements in numpy array: {tf.size(tensor.numpy())}\", )\n"
      ]
    },
    {
      "cell_type": "markdown",
      "source": [
        "## Regression Model\n"
      ],
      "metadata": {
        "id": "UNLI5qB10ckD"
      }
    },
    {
      "cell_type": "code",
      "source": [
        ""
      ],
      "metadata": {
        "id": "iL_w1Nkk0ySd"
      },
      "execution_count": null,
      "outputs": []
    }
  ]
}